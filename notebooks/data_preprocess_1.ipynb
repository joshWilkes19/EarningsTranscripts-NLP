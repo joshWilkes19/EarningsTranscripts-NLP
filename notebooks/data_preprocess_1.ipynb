{
 "cells": [
  {
   "cell_type": "markdown",
   "metadata": {},
   "source": [
    "# Imports"
   ]
  },
  {
   "cell_type": "code",
   "execution_count": 1,
   "metadata": {},
   "outputs": [],
   "source": [
    "import os\n",
    "import glob\n",
    "from sklearn.feature_extraction.text import TfidfVectorizer\n",
    "from sklearn.decomposition import TruncatedSVD\n",
    "import pandas as pd"
   ]
  },
  {
   "cell_type": "markdown",
   "metadata": {},
   "source": [
    "# Load Data"
   ]
  },
  {
   "cell_type": "code",
   "execution_count": 3,
   "metadata": {},
   "outputs": [
    {
     "ename": "IndexError",
     "evalue": "list index out of range",
     "output_type": "error",
     "traceback": [
      "\u001b[31m---------------------------------------------------------------------------\u001b[39m",
      "\u001b[31mIndexError\u001b[39m                                Traceback (most recent call last)",
      "\u001b[36mCell\u001b[39m\u001b[36m \u001b[39m\u001b[32mIn[3]\u001b[39m\u001b[32m, line 15\u001b[39m\n\u001b[32m     13\u001b[39m             documents.append(text)\n\u001b[32m     14\u001b[39m             companies.append(company)\n\u001b[32m---> \u001b[39m\u001b[32m15\u001b[39m             quarters.append(os.path.basename(file_path).split(\u001b[33m'\u001b[39m\u001b[33m-\u001b[39m\u001b[33m'\u001b[39m)[\u001b[32m0\u001b[39m] + \u001b[33m\"\u001b[39m\u001b[33m-\u001b[39m\u001b[33m\"\u001b[39m + \u001b[43mos\u001b[49m\u001b[43m.\u001b[49m\u001b[43mpath\u001b[49m\u001b[43m.\u001b[49m\u001b[43mbasename\u001b[49m\u001b[43m(\u001b[49m\u001b[43mfile_path\u001b[49m\u001b[43m)\u001b[49m\u001b[43m.\u001b[49m\u001b[43msplit\u001b[49m\u001b[43m(\u001b[49m\u001b[33;43m'\u001b[39;49m\u001b[33;43m-\u001b[39;49m\u001b[33;43m'\u001b[39;49m\u001b[43m)\u001b[49m\u001b[43m[\u001b[49m\u001b[32;43m1\u001b[39;49m\u001b[43m]\u001b[49m)  \u001b[38;5;66;03m# e.g., \"Q1-2023\"\u001b[39;00m\n\u001b[32m     17\u001b[39m \u001b[38;5;66;03m# 2. TF-IDF Vectorization with ngrams\u001b[39;00m\n\u001b[32m     18\u001b[39m vectorizer = TfidfVectorizer(\n\u001b[32m     19\u001b[39m     stop_words=\u001b[33m'\u001b[39m\u001b[33menglish\u001b[39m\u001b[33m'\u001b[39m,\n\u001b[32m     20\u001b[39m     ngram_range=(\u001b[32m1\u001b[39m, \u001b[32m3\u001b[39m),\n\u001b[32m   (...)\u001b[39m\u001b[32m     23\u001b[39m     max_df=\u001b[32m0.9\u001b[39m\n\u001b[32m     24\u001b[39m )\n",
      "\u001b[31mIndexError\u001b[39m: list index out of range"
     ]
    }
   ],
   "source": [
    "# 1. Load all .txt files and metadata\n",
    "base_dir = \"../data\"\n",
    "documents = []\n",
    "companies = []\n",
    "quarters = []\n",
    "\n",
    "for company in os.listdir(base_dir):\n",
    "    company_path = os.path.join(base_dir, company)\n",
    "    if os.path.isdir(company_path):\n",
    "        for file_path in glob.glob(f\"{company_path}/*.txt\"):\n",
    "            with open(file_path, \"r\", encoding=\"utf-8\") as f:\n",
    "                text = f.read()\n",
    "            documents.append(text)\n",
    "            companies.append(company)\n",
    "            quarters.append(os.path.basename(file_path).split('-')[0] + \"-\" + os.path.basename(file_path).split('-')[1])  # e.g., \"Q1-2023\"\n",
    "\n",
    "# 2. TF-IDF Vectorization with ngrams\n",
    "vectorizer = TfidfVectorizer(\n",
    "    stop_words='english',\n",
    "    ngram_range=(1, 3),\n",
    "    max_features=1000,\n",
    "    min_df=2,\n",
    "    max_df=0.9\n",
    ")\n",
    "\n",
    "tfidf_matrix = vectorizer.fit_transform(documents)"
   ]
  },
  {
   "cell_type": "markdown",
   "metadata": {},
   "source": [
    "# Preprocessing"
   ]
  },
  {
   "cell_type": "markdown",
   "metadata": {},
   "source": []
  }
 ],
 "metadata": {
  "kernelspec": {
   "display_name": "venv",
   "language": "python",
   "name": "python3"
  },
  "language_info": {
   "codemirror_mode": {
    "name": "ipython",
    "version": 3
   },
   "file_extension": ".py",
   "mimetype": "text/x-python",
   "name": "python",
   "nbconvert_exporter": "python",
   "pygments_lexer": "ipython3",
   "version": "3.12.6"
  }
 },
 "nbformat": 4,
 "nbformat_minor": 2
}
